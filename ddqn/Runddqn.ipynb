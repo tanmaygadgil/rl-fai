{
 "cells": [
  {
   "cell_type": "code",
   "execution_count": 14,
   "metadata": {},
   "outputs": [],
   "source": [
    "import pandas as pd\n",
    "import sys\n",
    "import os\n",
    "import json\n",
    "import subprocess"
   ]
  },
  {
   "cell_type": "code",
   "execution_count": 15,
   "metadata": {
    "pycharm": {
     "name": "#%%\n"
    }
   },
   "outputs": [],
   "source": [
    "paramgrid = {\n",
    "    \"episodes\": [400],\n",
    "    \"lr\": [0.0001, 0.001, 0.01],\n",
    "    \"gamma\": [0.95, 0.99, 0.8],\n",
    "    'network': [11, 12, 21, 22],\n",
    "    \"envs\": ['cartpole', 'lunarlander']\n",
    "\n",
    "}"
   ]
  },
  {
   "cell_type": "code",
   "execution_count": 16,
   "metadata": {
    "pycharm": {
     "name": "#%%\n"
    }
   },
   "outputs": [
    {
     "data": {
      "text/plain": [
       "[('episodes', [400]),\n",
       " ('lr', [0.0001, 0.001, 0.01]),\n",
       " ('gamma', [0.95, 0.99, 0.8]),\n",
       " ('network', [11, 12, 21, 22]),\n",
       " ('envs', ['cartpole', 'lunarlander'])]"
      ]
     },
     "execution_count": 16,
     "metadata": {},
     "output_type": "execute_result"
    }
   ],
   "source": [
    "list(paramgrid.items())"
   ]
  },
  {
   "cell_type": "code",
   "execution_count": 17,
   "metadata": {
    "pycharm": {
     "name": "#%%\n"
    }
   },
   "outputs": [],
   "source": [
    "def gen_params(paramgrid):\n",
    "    key_list = list(paramgrid.keys())\n",
    "    for i in paramgrid['episodes']:\n",
    "        for j in paramgrid['lr']:\n",
    "            for k in paramgrid['gamma']:\n",
    "                for l in paramgrid['network']:\n",
    "                    for m in paramgrid['envs']:\n",
    "                        yield {\"episodes\": i,\n",
    "                               \"lr\": j,\n",
    "                               \"gamma\": k,\n",
    "                               \"network\": l,\n",
    "                               \"env\": m}"
   ]
  },
  {
   "cell_type": "code",
   "execution_count": 18,
   "metadata": {
    "pycharm": {
     "name": "#%%\n"
    }
   },
   "outputs": [],
   "source": [
    "def create_params(paragrid):\n",
    "    grid = []\n",
    "    for i in paramgrid['episodes']:\n",
    "        for j in paramgrid['lr']:\n",
    "            for k in paramgrid['gamma']:\n",
    "                for l in paramgrid['network']:\n",
    "                    grid.append({\"episodes\": i,\n",
    "                           \"lr\": j,\n",
    "                           \"gamma\": k,\n",
    "                           \"network\": l})\n",
    "    return grid"
   ]
  },
  {
   "cell_type": "code",
   "execution_count": 19,
   "metadata": {
    "pycharm": {
     "name": "#%%\n"
    }
   },
   "outputs": [],
   "source": [
    "grid = create_params(paramgrid)"
   ]
  },
  {
   "cell_type": "code",
   "execution_count": 20,
   "metadata": {
    "pycharm": {
     "name": "#%%\n"
    }
   },
   "outputs": [
    {
     "data": {
      "text/plain": [
       "[{'episodes': 400, 'lr': 0.0001, 'gamma': 0.95, 'network': 11},\n",
       " {'episodes': 400, 'lr': 0.0001, 'gamma': 0.95, 'network': 12},\n",
       " {'episodes': 400, 'lr': 0.0001, 'gamma': 0.95, 'network': 21},\n",
       " {'episodes': 400, 'lr': 0.0001, 'gamma': 0.95, 'network': 22},\n",
       " {'episodes': 400, 'lr': 0.0001, 'gamma': 0.99, 'network': 11},\n",
       " {'episodes': 400, 'lr': 0.0001, 'gamma': 0.99, 'network': 12},\n",
       " {'episodes': 400, 'lr': 0.0001, 'gamma': 0.99, 'network': 21},\n",
       " {'episodes': 400, 'lr': 0.0001, 'gamma': 0.99, 'network': 22},\n",
       " {'episodes': 400, 'lr': 0.0001, 'gamma': 0.8, 'network': 11},\n",
       " {'episodes': 400, 'lr': 0.0001, 'gamma': 0.8, 'network': 12},\n",
       " {'episodes': 400, 'lr': 0.0001, 'gamma': 0.8, 'network': 21},\n",
       " {'episodes': 400, 'lr': 0.0001, 'gamma': 0.8, 'network': 22},\n",
       " {'episodes': 400, 'lr': 0.001, 'gamma': 0.95, 'network': 11},\n",
       " {'episodes': 400, 'lr': 0.001, 'gamma': 0.95, 'network': 12},\n",
       " {'episodes': 400, 'lr': 0.001, 'gamma': 0.95, 'network': 21},\n",
       " {'episodes': 400, 'lr': 0.001, 'gamma': 0.95, 'network': 22},\n",
       " {'episodes': 400, 'lr': 0.001, 'gamma': 0.99, 'network': 11},\n",
       " {'episodes': 400, 'lr': 0.001, 'gamma': 0.99, 'network': 12},\n",
       " {'episodes': 400, 'lr': 0.001, 'gamma': 0.99, 'network': 21},\n",
       " {'episodes': 400, 'lr': 0.001, 'gamma': 0.99, 'network': 22},\n",
       " {'episodes': 400, 'lr': 0.001, 'gamma': 0.8, 'network': 11},\n",
       " {'episodes': 400, 'lr': 0.001, 'gamma': 0.8, 'network': 12},\n",
       " {'episodes': 400, 'lr': 0.001, 'gamma': 0.8, 'network': 21},\n",
       " {'episodes': 400, 'lr': 0.001, 'gamma': 0.8, 'network': 22},\n",
       " {'episodes': 400, 'lr': 0.01, 'gamma': 0.95, 'network': 11},\n",
       " {'episodes': 400, 'lr': 0.01, 'gamma': 0.95, 'network': 12},\n",
       " {'episodes': 400, 'lr': 0.01, 'gamma': 0.95, 'network': 21},\n",
       " {'episodes': 400, 'lr': 0.01, 'gamma': 0.95, 'network': 22},\n",
       " {'episodes': 400, 'lr': 0.01, 'gamma': 0.99, 'network': 11},\n",
       " {'episodes': 400, 'lr': 0.01, 'gamma': 0.99, 'network': 12},\n",
       " {'episodes': 400, 'lr': 0.01, 'gamma': 0.99, 'network': 21},\n",
       " {'episodes': 400, 'lr': 0.01, 'gamma': 0.99, 'network': 22},\n",
       " {'episodes': 400, 'lr': 0.01, 'gamma': 0.8, 'network': 11},\n",
       " {'episodes': 400, 'lr': 0.01, 'gamma': 0.8, 'network': 12},\n",
       " {'episodes': 400, 'lr': 0.01, 'gamma': 0.8, 'network': 21},\n",
       " {'episodes': 400, 'lr': 0.01, 'gamma': 0.8, 'network': 22}]"
      ]
     },
     "execution_count": 20,
     "metadata": {},
     "output_type": "execute_result"
    }
   ],
   "source": [
    "grid"
   ]
  },
  {
   "cell_type": "code",
   "execution_count": 21,
   "metadata": {
    "pycharm": {
     "name": "#%%\n"
    }
   },
   "outputs": [],
   "source": [
    "with open(\"ddqn_configs.jsonl\", 'w') as file:\n",
    "    for item in grid:\n",
    "        json.dump(item, file)\n",
    "        file.write('\\n')\n"
   ]
  },
  {
   "cell_type": "code",
   "execution_count": 22,
   "metadata": {
    "pycharm": {
     "name": "#%%\n"
    }
   },
   "outputs": [
    {
     "name": "stdout",
     "output_type": "stream",
     "text": [
      "{\"episodes\": 400, \"lr\": 0.0001, \"gamma\": 0.95, \"network\": 11}\n",
      "\n",
      "{\"episodes\": 400, \"lr\": 0.0001, \"gamma\": 0.95, \"network\": 12}\n",
      "\n",
      "{\"episodes\": 400, \"lr\": 0.0001, \"gamma\": 0.95, \"network\": 21}\n",
      "\n",
      "{\"episodes\": 400, \"lr\": 0.0001, \"gamma\": 0.95, \"network\": 22}\n",
      "\n",
      "{\"episodes\": 400, \"lr\": 0.0001, \"gamma\": 0.99, \"network\": 11}\n",
      "\n",
      "{\"episodes\": 400, \"lr\": 0.0001, \"gamma\": 0.99, \"network\": 12}\n",
      "\n",
      "{\"episodes\": 400, \"lr\": 0.0001, \"gamma\": 0.99, \"network\": 21}\n",
      "\n",
      "{\"episodes\": 400, \"lr\": 0.0001, \"gamma\": 0.99, \"network\": 22}\n",
      "\n",
      "{\"episodes\": 400, \"lr\": 0.0001, \"gamma\": 0.8, \"network\": 11}\n",
      "\n",
      "{\"episodes\": 400, \"lr\": 0.0001, \"gamma\": 0.8, \"network\": 12}\n",
      "\n",
      "{\"episodes\": 400, \"lr\": 0.0001, \"gamma\": 0.8, \"network\": 21}\n",
      "\n",
      "{\"episodes\": 400, \"lr\": 0.0001, \"gamma\": 0.8, \"network\": 22}\n",
      "\n",
      "{\"episodes\": 400, \"lr\": 0.001, \"gamma\": 0.95, \"network\": 11}\n",
      "\n",
      "{\"episodes\": 400, \"lr\": 0.001, \"gamma\": 0.95, \"network\": 12}\n",
      "\n",
      "{\"episodes\": 400, \"lr\": 0.001, \"gamma\": 0.95, \"network\": 21}\n",
      "\n",
      "{\"episodes\": 400, \"lr\": 0.001, \"gamma\": 0.95, \"network\": 22}\n",
      "\n",
      "{\"episodes\": 400, \"lr\": 0.001, \"gamma\": 0.99, \"network\": 11}\n",
      "\n",
      "{\"episodes\": 400, \"lr\": 0.001, \"gamma\": 0.99, \"network\": 12}\n",
      "\n",
      "{\"episodes\": 400, \"lr\": 0.001, \"gamma\": 0.99, \"network\": 21}\n",
      "\n",
      "{\"episodes\": 400, \"lr\": 0.001, \"gamma\": 0.99, \"network\": 22}\n",
      "\n",
      "{\"episodes\": 400, \"lr\": 0.001, \"gamma\": 0.8, \"network\": 11}\n",
      "\n",
      "{\"episodes\": 400, \"lr\": 0.001, \"gamma\": 0.8, \"network\": 12}\n",
      "\n",
      "{\"episodes\": 400, \"lr\": 0.001, \"gamma\": 0.8, \"network\": 21}\n",
      "\n",
      "{\"episodes\": 400, \"lr\": 0.001, \"gamma\": 0.8, \"network\": 22}\n",
      "\n",
      "{\"episodes\": 400, \"lr\": 0.01, \"gamma\": 0.95, \"network\": 11}\n",
      "\n",
      "{\"episodes\": 400, \"lr\": 0.01, \"gamma\": 0.95, \"network\": 12}\n",
      "\n",
      "{\"episodes\": 400, \"lr\": 0.01, \"gamma\": 0.95, \"network\": 21}\n",
      "\n",
      "{\"episodes\": 400, \"lr\": 0.01, \"gamma\": 0.95, \"network\": 22}\n",
      "\n",
      "{\"episodes\": 400, \"lr\": 0.01, \"gamma\": 0.99, \"network\": 11}\n",
      "\n",
      "{\"episodes\": 400, \"lr\": 0.01, \"gamma\": 0.99, \"network\": 12}\n",
      "\n",
      "{\"episodes\": 400, \"lr\": 0.01, \"gamma\": 0.99, \"network\": 21}\n",
      "\n",
      "{\"episodes\": 400, \"lr\": 0.01, \"gamma\": 0.99, \"network\": 22}\n",
      "\n",
      "{\"episodes\": 400, \"lr\": 0.01, \"gamma\": 0.8, \"network\": 11}\n",
      "\n",
      "{\"episodes\": 400, \"lr\": 0.01, \"gamma\": 0.8, \"network\": 12}\n",
      "\n",
      "{\"episodes\": 400, \"lr\": 0.01, \"gamma\": 0.8, \"network\": 21}\n",
      "\n",
      "{\"episodes\": 400, \"lr\": 0.01, \"gamma\": 0.8, \"network\": 22}\n",
      "\n"
     ]
    }
   ],
   "source": [
    "test = []\n",
    "with open(\"ddqn_configs.jsonl\", 'r') as file:\n",
    "    for item in file.readlines():\n",
    "        print(item)\n",
    "        test.append(json.loads(item))\n"
   ]
  },
  {
   "cell_type": "code",
   "execution_count": 23,
   "metadata": {
    "pycharm": {
     "name": "#%%\n"
    }
   },
   "outputs": [
    {
     "data": {
      "text/plain": [
       "36"
      ]
     },
     "execution_count": 23,
     "metadata": {},
     "output_type": "execute_result"
    }
   ],
   "source": [
    "len(test)"
   ]
  },
  {
   "cell_type": "code",
   "execution_count": 30,
   "metadata": {
    "pycharm": {
     "name": "#%%\n"
    }
   },
   "outputs": [],
   "source": [
    "def gen_command(params):\n",
    "    commands = ['python']\n",
    "    if params['env'] == 'cartpole':\n",
    "        commands.append('cartpole.py')\n",
    "    elif params['env'] == 'lunarlander':\n",
    "        commands.append('lander.py')\n",
    "    commands.append('--episodes')\n",
    "    commands.append(str(params['episodes']))\n",
    "    commands.append('--lr')\n",
    "    commands.append(str(params['lr']))\n",
    "    commands.append('--gamma')\n",
    "    commands.append(str(params['gamma']))\n",
    "    commands.append('--network')\n",
    "    commands.append(str(params['network']))\n",
    "\n",
    "    return commands"
   ]
  },
  {
   "cell_type": "code",
   "execution_count": 31,
   "metadata": {
    "pycharm": {
     "name": "#%%\n"
    }
   },
   "outputs": [],
   "source": [
    "gen = gen_params(paramgrid)\n",
    "\n"
   ]
  },
  {
   "cell_type": "code",
   "execution_count": 32,
   "metadata": {
    "pycharm": {
     "name": "#%%\n"
    }
   },
   "outputs": [
    {
     "name": "stdout",
     "output_type": "stream",
     "text": [
      "running: ['python', 'cartpole.py', '--episodes', '400', '--lr', '0.0001', '--gamma', '0.95', '--network', '11']\n",
      "running: ['python', 'lander.py', '--episodes', '400', '--lr', '0.0001', '--gamma', '0.95', '--network', '11']\n",
      "running: ['python', 'cartpole.py', '--episodes', '400', '--lr', '0.0001', '--gamma', '0.95', '--network', '12']\n"
     ]
    },
    {
     "name": "stderr",
     "output_type": "stream",
     "text": [
      "Traceback (most recent call last):\n",
      "  File \"lander.py\", line 5, in <module>\n",
      "    import torch\n",
      "ModuleNotFoundError: No module named 'torch'\n",
      "Traceback (most recent call last):\n",
      "  File \"cartpole.py\", line 5, in <module>\n",
      "    import torch\n",
      "ModuleNotFoundError: No module named 'torch'\n",
      "Traceback (most recent call last):\n",
      "  File \"cartpole.py\", line 5, in <module>\n",
      "    import torch\n",
      "ModuleNotFoundError: No module named 'torch'\n"
     ]
    },
    {
     "name": "stdout",
     "output_type": "stream",
     "text": [
      "running: ['python', 'lander.py', '--episodes', '400', '--lr', '0.0001', '--gamma', '0.95', '--network', '12']\n",
      "running: ['python', 'cartpole.py', '--episodes', '400', '--lr', '0.0001', '--gamma', '0.95', '--network', '21']\n",
      "running: ['python', 'lander.py', '--episodes', '400', '--lr', '0.0001', '--gamma', '0.95', '--network', '21']\n"
     ]
    },
    {
     "name": "stderr",
     "output_type": "stream",
     "text": [
      "Traceback (most recent call last):\n",
      "  File \"lander.py\", line 5, in <module>\n",
      "    import torch\n",
      "ModuleNotFoundError: No module named 'torch'\n",
      "Traceback (most recent call last):\n",
      "  File \"cartpole.py\", line 5, in <module>\n",
      "    import torch\n",
      "ModuleNotFoundError: No module named 'torch'\n",
      "Traceback (most recent call last):\n",
      "  File \"lander.py\", line 5, in <module>\n",
      "    import torch\n",
      "ModuleNotFoundError: No module named 'torch'\n"
     ]
    }
   ],
   "source": [
    "c = 0\n",
    "while(gen):\n",
    "    if c > 4:\n",
    "        break\n",
    "\n",
    "    params = next(gen)\n",
    "    command = gen_command(params)\n",
    "    print(f\"running: {command}\")\n",
    "    subprocess.Popen(command)\n",
    "\n",
    "    params = next(gen)\n",
    "    command = gen_command(params)\n",
    "    print(f\"running: {command}\")\n",
    "    subprocess.Popen(command)\n",
    "\n",
    "    params = next(gen)\n",
    "    command = gen_command(params)\n",
    "    print(f\"running: {command}\")\n",
    "    subprocess.Popen(command).wait()\n",
    "\n",
    "    c += 3"
   ]
  },
  {
   "cell_type": "code",
   "execution_count": 13,
   "metadata": {
    "pycharm": {
     "name": "#%%\n"
    }
   },
   "outputs": [],
   "source": []
  }
 ],
 "metadata": {
  "kernelspec": {
   "display_name": "Python 3 (ipykernel)",
   "language": "python",
   "name": "python3"
  },
  "language_info": {
   "codemirror_mode": {
    "name": "ipython",
    "version": 3
   },
   "file_extension": ".py",
   "mimetype": "text/x-python",
   "name": "python",
   "nbconvert_exporter": "python",
   "pygments_lexer": "ipython3",
   "version": "3.9.7"
  }
 },
 "nbformat": 4,
 "nbformat_minor": 1
}