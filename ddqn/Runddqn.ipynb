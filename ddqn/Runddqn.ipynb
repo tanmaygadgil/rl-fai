{
 "cells": [
  {
   "cell_type": "code",
   "execution_count": null,
   "metadata": {
    "collapsed": true
   },
   "outputs": [],
   "source": [
    "import pandas as pd\n",
    "import sys\n",
    "import os\n",
    "import json\n",
    "import subprocess"
   ]
  },
  {
   "cell_type": "code",
   "execution_count": null,
   "outputs": [],
   "source": [
    "paramgrid = {\n",
    "    \"episodes\": [400],\n",
    "    \"lr\": [0.0001, 0.001, 0.01],\n",
    "    \"gamma\": [0.95, 0.99, 0.8],\n",
    "    'network': [11, 12, 21, 22],\n",
    "    \"envs\": ['cartpole', 'lunarlander']\n",
    "\n",
    "}"
   ],
   "metadata": {
    "collapsed": false,
    "pycharm": {
     "name": "#%%\n"
    }
   }
  },
  {
   "cell_type": "code",
   "execution_count": null,
   "outputs": [],
   "source": [
    "list(paramgrid.items())"
   ],
   "metadata": {
    "collapsed": false,
    "pycharm": {
     "name": "#%%\n"
    }
   }
  },
  {
   "cell_type": "code",
   "execution_count": null,
   "outputs": [],
   "source": [
    "def gen_params(paramgrid):\n",
    "    key_list = list(paramgrid.keys())\n",
    "    for i in paramgrid['episodes']:\n",
    "        for j in paramgrid['lr']:\n",
    "            for k in paramgrid['gamma']:\n",
    "                for l in paramgrid['network']:\n",
    "                    for m in paramgrid['envs']:\n",
    "                        yield {\"episodes\": i,\n",
    "                               \"lr\": j,\n",
    "                               \"gamma\": k,\n",
    "                               \"network\": l,\n",
    "                               \"env\": m}"
   ],
   "metadata": {
    "collapsed": false,
    "pycharm": {
     "name": "#%%\n"
    }
   }
  },
  {
   "cell_type": "code",
   "execution_count": null,
   "outputs": [],
   "source": [
    "def create_params(paragrid):\n",
    "    grid = []\n",
    "    for i in paramgrid['episodes']:\n",
    "        for j in paramgrid['lr']:\n",
    "            for k in paramgrid['gamma']:\n",
    "                for l in paramgrid['network']:\n",
    "                    grid.append({\"episodes\": i,\n",
    "                           \"lr\": j,\n",
    "                           \"gamma\": k,\n",
    "                           \"network\": l})\n",
    "    return grid"
   ],
   "metadata": {
    "collapsed": false,
    "pycharm": {
     "name": "#%%\n"
    }
   }
  },
  {
   "cell_type": "code",
   "execution_count": null,
   "outputs": [],
   "source": [
    "grid = create_params(paramgrid)"
   ],
   "metadata": {
    "collapsed": false,
    "pycharm": {
     "name": "#%%\n"
    }
   }
  },
  {
   "cell_type": "code",
   "execution_count": null,
   "outputs": [],
   "source": [
    "grid"
   ],
   "metadata": {
    "collapsed": false,
    "pycharm": {
     "name": "#%%\n"
    }
   }
  },
  {
   "cell_type": "code",
   "execution_count": null,
   "outputs": [],
   "source": [
    "with open(\"ddqn_configs.jsonl\", 'w') as file:\n",
    "    for item in grid:\n",
    "        json.dump(item, file)\n",
    "        file.write('\\n')\n"
   ],
   "metadata": {
    "collapsed": false,
    "pycharm": {
     "name": "#%%\n"
    }
   }
  },
  {
   "cell_type": "code",
   "execution_count": null,
   "outputs": [],
   "source": [
    "test = []\n",
    "with open(\"ddqn_configs.jsonl\", 'r') as file:\n",
    "    for item in file.readlines():\n",
    "        print(item)\n",
    "        test.append(json.loads(item))\n"
   ],
   "metadata": {
    "collapsed": false,
    "pycharm": {
     "name": "#%%\n"
    }
   }
  },
  {
   "cell_type": "code",
   "execution_count": null,
   "outputs": [],
   "source": [
    "len(test)"
   ],
   "metadata": {
    "collapsed": false,
    "pycharm": {
     "name": "#%%\n"
    }
   }
  },
  {
   "cell_type": "code",
   "execution_count": null,
   "outputs": [],
   "source": [
    "def gen_command(params):\n",
    "    commands = ['python']\n",
    "    if params['env'] == 'cartpole':\n",
    "        commands.append('ddqn/cartpole.py')\n",
    "    elif params['env'] == 'lunarlander':\n",
    "        commands.append('ddqn/lander.py')\n",
    "    commands.append('--episodes')\n",
    "    commands.append(str(params['episodes']))\n",
    "    commands.append('--lr')\n",
    "    commands.append(str(params['lr']))\n",
    "    commands.append('--gamma')\n",
    "    commands.append(str(params['gamma']))\n",
    "    commands.append('--network')\n",
    "    commands.append(str(params['network']))\n",
    "\n",
    "    return commands"
   ],
   "metadata": {
    "collapsed": false,
    "pycharm": {
     "name": "#%%\n"
    }
   }
  },
  {
   "cell_type": "code",
   "execution_count": null,
   "outputs": [],
   "source": [
    "gen = gen_params(paramgrid)\n",
    "\n"
   ],
   "metadata": {
    "collapsed": false,
    "pycharm": {
     "name": "#%%\n"
    }
   }
  },
  {
   "cell_type": "code",
   "execution_count": null,
   "outputs": [],
   "source": [
    "c = 0\n",
    "while(gen):\n",
    "    if c > 4:\n",
    "        break\n",
    "\n",
    "    params = next(gen)\n",
    "    command = gen_command(params)\n",
    "    print(f\"running: {command}\")\n",
    "    subprocess.Popen(command)\n",
    "\n",
    "    params = next(gen)\n",
    "    command = gen_command(params)\n",
    "    print(f\"running: {command}\")\n",
    "    subprocess.Popen(command)\n",
    "\n",
    "    params = next(gen)\n",
    "    command = gen_command(params)\n",
    "    print(f\"running: {command}\")\n",
    "    subprocess.Popen(command).wait()\n",
    "\n",
    "    c += 3"
   ],
   "metadata": {
    "collapsed": false,
    "pycharm": {
     "name": "#%%\n"
    }
   }
  },
  {
   "cell_type": "code",
   "execution_count": null,
   "outputs": [],
   "source": [],
   "metadata": {
    "collapsed": false,
    "pycharm": {
     "name": "#%%\n"
    }
   }
  }
 ],
 "metadata": {
  "kernelspec": {
   "display_name": "Python 3",
   "language": "python",
   "name": "python3"
  },
  "language_info": {
   "codemirror_mode": {
    "name": "ipython",
    "version": 2
   },
   "file_extension": ".py",
   "mimetype": "text/x-python",
   "name": "python",
   "nbconvert_exporter": "python",
   "pygments_lexer": "ipython2",
   "version": "2.7.6"
  }
 },
 "nbformat": 4,
 "nbformat_minor": 0
}